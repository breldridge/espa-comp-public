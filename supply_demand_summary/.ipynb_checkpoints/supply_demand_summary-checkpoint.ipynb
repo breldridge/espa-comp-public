{
 "cells": [
  {
   "cell_type": "code",
   "execution_count": 1,
   "id": "c71e21c0",
   "metadata": {},
   "outputs": [],
   "source": [
    "import pandas as pd\n",
    "import seaborn as sns\n",
    "import matplotlib.pyplot as plt\n",
    "from ast import literal_eval\n",
    "\n",
    "input_dir = \"./data/\"\n",
    "info_resource = pd.read_excel(input_dir+'resource_info.xlsx',sheet_name=\"Master\")\n",
    "info_gen = pd.read_excel(input_dir+'resource_info.xlsx',sheet_name=\"Generators\")\n",
    "info_ren = pd.read_excel(input_dir+'resource_info.xlsx',sheet_name=\"Renewables\")\n",
    "info_dem = pd.read_excel(input_dir+'resource_info.xlsx',sheet_name=\"Demand\")\n",
    "ts_load = pd.read_csv(input_dir+'Load_2030_8760.csv')\n",
    "ts_hydro = pd.read_csv(input_dir+'Hydro_2030_8760.csv')\n",
    "ts_solar = pd.read_csv(input_dir+'solar_1hr_forecast.csv')\n",
    "ts_wind = pd.read_csv(input_dir+'wind_1hr_forecast.csv')"
   ]
  },
  {
   "cell_type": "code",
   "execution_count": 2,
   "id": "d557364e",
   "metadata": {},
   "outputs": [
    {
     "data": {
      "image/png": "[encoded data removed]",
      "text/plain": [
       "<Figure size 720x432 with 1 Axes>"
      ]
     },
     "metadata": {
      "needs_background": "light"
     },
     "output_type": "display_data"
    }
   ],
   "source": [
    "# Generation\n",
    "raw_gen = pd.merge(info_resource, info_gen, on='rid')\n",
    "raw_gen['block_g_mq'] = \"[\" + raw_gen['block_g_mq'] + \"]\"\n",
    "raw_gen['block_g_mc'] = \"[\" + raw_gen['block_g_mc'] + \"]\"\n",
    "raw_gen['block_g_mq'] = raw_gen['block_g_mq'].apply(literal_eval)\n",
    "raw_gen['block_g_mc'] = raw_gen['block_g_mc'].apply(literal_eval)\n",
    "mq_mc = []\n",
    "for idx, row in raw_gen.iterrows():\n",
    "    if type(row['block_g_mq']) is float:\n",
    "        mq = [row['block_g_mq']]\n",
    "        mc = [row['block_g_mc']]\n",
    "    else:\n",
    "        mq = list(row['block_g_mq'])\n",
    "        mc = list(row['block_g_mc'])\n",
    "    mq_mc.append(list(zip(mq, mc)))\n",
    "raw_gen['mq_mc'] = mq_mc\n",
    "\n",
    "pq_curve_gen = raw_gen.explode('mq_mc').reset_index(drop=True)\n",
    "pq_curve_gen[['mq','mc']] = pd.DataFrame(pq_curve_gen['mq_mc'].to_list(), index=pq_curve_gen.index)\n",
    "pq_curve_gen.sort_values(by='mc', ascending=True, inplace=True)\n",
    "pq_curve_gen['q'] = pq_curve_gen['mq'].cumsum()\n",
    "\n",
    "#Create scatterplot\n",
    "plt.figure(figsize=(10, 6))\n",
    "g = sns.scatterplot(data=pq_curve_gen, x='q', y='mc', hue='GridpathType', legend='brief')\n",
    "handles, labels = g.get_legend_handles_labels()\n",
    "color_map = {label: handle.get_facecolor()[0] for label, handle in zip(labels, handles)}\n",
    "g.remove()\n",
    "\n",
    "# line plots to draw the curve\n",
    "pq_curve_gen['q0'] = pq_curve_gen['q'] - pq_curve_gen['mq']\n",
    "q=0\n",
    "mc=0\n",
    "cnt=0\n",
    "for ixd,row in pq_curve_gen.iterrows():\n",
    "    color = color_map[row['GridpathType']]\n",
    "    x = [q, q, row['q']]\n",
    "    y = [mc, row['mc'], row['mc']]\n",
    "    #newline = sns.lineplot(x=x, y=y, color=color, size=5, legend=False)\n",
    "    plt.plot(x, y, color=color, linewidth=4, solid_capstyle='round')\n",
    "    q = row['q']\n",
    "    mc = row['mc']\n",
    "        \n",
    "# Add legend manually\n",
    "plt.title('generation marginal cost vs. quantity')\n",
    "plt.xlabel('q')\n",
    "plt.ylabel('mc')\n",
    "plt.legend(handles=handles, labels=labels, title='Type')\n",
    "\n",
    "plt.show()"
   ]
  },
  {
   "cell_type": "code",
   "execution_count": 55,
   "id": "9e1f181e",
   "metadata": {},
   "outputs": [
    {
     "name": "stderr",
     "output_type": "stream",
     "text": [
      "<ipython-input-55-8e3353f6bfd9>:22: DeprecationWarning: The default dtype for empty Series will be 'object' instead of 'float64' in a future version. Specify a dtype explicitly to silence this warning.\n",
      "  return pd.Series()\n"
     ]
    }
   ],
   "source": [
    "# Demand\n",
    "raw_dem = pd.merge(info_resource, info_dem, on='rid')\n",
    "load_rid_map = {}\n",
    "for col in ts_load.columns:\n",
    "    is_bus = info_resource.apply(lambda row: row['ResourceBus'] in str(col), axis=1)\n",
    "    is_dem = info_resource.apply(lambda row: row['ResourceType']=='dem', axis=1)\n",
    "    idx = info_resource.apply(lambda row: (row['ResourceBus'] in str(col)) and (row['ResourceType']=='dem'), axis=1)\n",
    "    rid = info_resource.loc[idx,'rid'].values\n",
    "    if len(rid)>0:\n",
    "        load_rid_map[str(col)] = rid[0]\n",
    "    else:\n",
    "        load_rid_map[str(col)] = None\n",
    "\n",
    "# Apply normalization to get actual load timeseries\n",
    "def normalize_column(col):\n",
    "    rid = load_rid_map[col.name]\n",
    "    # print(f'{col.name} rid: {rid}')\n",
    "    if rid is not None:\n",
    "        pdmax = info_dem.loc[info_dem['rid']==rid, 'pdmax'].values[0]\n",
    "        return pdmax * col / col.max()\n",
    "    else:\n",
    "        return pd.Series()\n",
    "df_load = ts_load.apply(normalize_column, axis=0)\n",
    "df_load = df_load.dropna(axis=1, how='all')\n",
    "\n",
    "# Identify highest and lowest load indexes\n",
    "df_load['total'] = df_load.sum(axis=1)\n",
    "max_load_idx = df_load['total'].idxmax()\n",
    "min_load_idx = df_load['total'].idxmin()\n",
    "\n",
    "# Create the demand curve\n",
    "info_dem['pdmax']\n",
    "info_dem['block_d_mq']\n",
    "info_dem['block_d_mv']\n",
    "raw_dm = pd.merge(info_resource, info_dem, on='rid')\n",
    "raw_dem['block_d_mq'] = \"[\" + raw_dem['block_d_mq'] + \"]\"\n",
    "raw_dem['block_d_mv'] = \"[\" + raw_dem['block_d_mv'] + \"]\"\n",
    "raw_dem['block_d_mq'] = raw_dem['block_d_mq'].apply(literal_eval)\n",
    "raw_dem['block_d_mv'] = raw_dem['block_d_mv'].apply(literal_eval)\n",
    "mq_mv = []\n",
    "for idx, row in raw_dem.iterrows():\n",
    "    if type(row['block_d_mq']) is float:\n",
    "        mq = [row['block_d_mq']]\n",
    "        mv = [row['block_d_mv']]\n",
    "    else:\n",
    "        mq = list(row['block_d_mq'])\n",
    "        mv = list(row['block_d_mv'])\n",
    "    mq_mv.append(list(zip(mq, mv)))\n",
    "raw_dem['mq_mv'] = mq_mv\n",
    "\n",
    "pq_curve_dem = raw_dem.explode('mq_mv').reset_index(drop=True)\n",
    "pq_curve_dem[['mq','mv']] = pd.DataFrame(pq_curve_dem['mq_mv'].to_list(), index=pq_curve_dem.index)\n",
    "pq_curve_dem.sort_values(by='mv', ascending=False, inplace=True)\n",
    "pq_curve_gen['q'] = pq_curve_gen['mq'].cumsum()"
   ]
  }
 ],
 "metadata": {
  "kernelspec": {
   "display_name": "Python 3",
   "language": "python",
   "name": "python3"
  },
  "language_info": {
   "codemirror_mode": {
    "name": "ipython",
    "version": 3
   },
   "file_extension": ".py",
   "mimetype": "text/x-python",
   "name": "python",
   "nbconvert_exporter": "python",
   "pygments_lexer": "ipython3",
   "version": "3.8.8"
  }
 },
 "nbformat": 4,
 "nbformat_minor": 5
}
